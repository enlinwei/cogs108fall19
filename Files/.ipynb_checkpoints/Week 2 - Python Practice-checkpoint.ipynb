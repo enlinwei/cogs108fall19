{
 "cells": [
  {
   "cell_type": "markdown",
   "metadata": {},
   "source": [
    "# Introduction / Recap of Python"
   ]
  },
  {
   "cell_type": "markdown",
   "metadata": {},
   "source": [
    "Whether you've done Python before and have forgotten or are totally new to Python, hopefully this practice can acquaint you with Python quickly so you can use it for your assignments and projects."
   ]
  },
  {
   "cell_type": "markdown",
   "metadata": {},
   "source": [
    "Comments in Python are written starting with a '#'. Multi-line comments start and end with 3 double-quotations."
   ]
  },
  {
   "cell_type": "code",
   "execution_count": null,
   "metadata": {},
   "outputs": [],
   "source": [
    "# this is a line comment\n",
    "\n",
    "\"\"\"\n",
    "This comment\n",
    "takes up\n",
    "multiple lines.\n",
    "\"\"\""
   ]
  },
  {
   "cell_type": "markdown",
   "metadata": {},
   "source": [
    "## Variables"
   ]
  },
  {
   "cell_type": "markdown",
   "metadata": {},
   "source": [
    "Variables in Python don't have type. You can assign any value to it and later reassign it with a *string*, *int*, __*None*__, etc."
   ]
  },
  {
   "cell_type": "code",
   "execution_count": null,
   "metadata": {},
   "outputs": [],
   "source": [
    "# I can keep reassigning different variables of different types.\n",
    "var = 3\n",
    "var = 'hello world'\n",
    "var = None\n",
    "var = 4.55"
   ]
  },
  {
   "cell_type": "markdown",
   "metadata": {},
   "source": [
    "Printing in Python is just 'print(whatever_you_want_to_print)'."
   ]
  },
  {
   "cell_type": "code",
   "execution_count": null,
   "metadata": {},
   "outputs": [],
   "source": [
    "print('Hello my name is Enlin.')"
   ]
  },
  {
   "cell_type": "code",
   "execution_count": null,
   "metadata": {},
   "outputs": [],
   "source": [
    "print(var)"
   ]
  },
  {
   "cell_type": "markdown",
   "metadata": {},
   "source": [
    "You can add two strings with '+', but you can't subtract two strings; and an int times a string produces a string that repeats that int number of times."
   ]
  },
  {
   "cell_type": "code",
   "execution_count": null,
   "metadata": {
    "scrolled": true
   },
   "outputs": [],
   "source": [
    "'Welcome to ' + 'COGS108 ' + 'section.'"
   ]
  },
  {
   "cell_type": "code",
   "execution_count": null,
   "metadata": {},
   "outputs": [],
   "source": [
    "\"I don't like this part of the sentence.\" - \"this part of the sentence.\""
   ]
  },
  {
   "cell_type": "code",
   "execution_count": null,
   "metadata": {},
   "outputs": [],
   "source": [
    "5 * 'This will repeat 5 times. '"
   ]
  },
  {
   "cell_type": "markdown",
   "metadata": {},
   "source": [
    "## Lists, tuples, dictionaries"
   ]
  },
  {
   "cell_type": "markdown",
   "metadata": {},
   "source": [
    "Python has 3 ways to store data in arrays: lists, tuples, and dictionaries. Indexing starts at 0 (so the first item can be referred to as list_name[0])."
   ]
  },
  {
   "cell_type": "markdown",
   "metadata": {},
   "source": [
    "Lists and tuples are both two-dimension arrays; the main difference (that we're concerned about) is that lists can be edited while tuples can't."
   ]
  },
  {
   "cell_type": "code",
   "execution_count": null,
   "metadata": {},
   "outputs": [],
   "source": [
    "list1 = [6, 4, 'brad', None, 3.1415] # lists are defined by square brackets\n",
    "tuple1 = (4, 22, 'cogs108', False, 2.18) # tuples are defined by parentheses"
   ]
  },
  {
   "cell_type": "code",
   "execution_count": null,
   "metadata": {},
   "outputs": [],
   "source": [
    "list1[1] = 5\n",
    "# What do you think happens?"
   ]
  },
  {
   "cell_type": "code",
   "execution_count": null,
   "metadata": {},
   "outputs": [],
   "source": [
    "list1"
   ]
  },
  {
   "cell_type": "code",
   "execution_count": null,
   "metadata": {},
   "outputs": [],
   "source": [
    "tuple1[3] = True\n",
    "# What do you think happens?"
   ]
  },
  {
   "cell_type": "markdown",
   "metadata": {},
   "source": [
    "Dictionaries are little harder to understand if you're new to them. Each \"spot\" in a dictionary has a \"key\", and that \"key\" leads to a \"value\". They are assigned by \"key : value\" format."
   ]
  },
  {
   "cell_type": "code",
   "execution_count": null,
   "metadata": {},
   "outputs": [],
   "source": [
    "dict1 = {'jason': 175, 'barbara': 168, 'richard': 181, 'michelle': 166}"
   ]
  },
  {
   "cell_type": "code",
   "execution_count": null,
   "metadata": {
    "scrolled": true
   },
   "outputs": [],
   "source": [
    "dict1['barbara']\n",
    "# What do you think this outputs?"
   ]
  },
  {
   "cell_type": "markdown",
   "metadata": {},
   "source": [
    "And the keys and values don't necessarily have to be all numbers or all ints. They can be all types."
   ]
  },
  {
   "cell_type": "markdown",
   "metadata": {},
   "source": [
    "## If/elif/else"
   ]
  },
  {
   "cell_type": "markdown",
   "metadata": {},
   "source": [
    "In Python, the three keywords are \"if\", \"elif\" (shorthand of \"else if\"), and \"else.\""
   ]
  },
  {
   "cell_type": "code",
   "execution_count": null,
   "metadata": {},
   "outputs": [],
   "source": [
    "a = 12\n",
    "\n",
    "if a < 5:\n",
    "    print(\"'a' less than 5\")\n",
    "elif a >= 5 and a <=15:\n",
    "    print(\"'a' between 5 and 15, inclusive\")\n",
    "else:\n",
    "    print(\"'a' is greater than 15\")"
   ]
  },
  {
   "cell_type": "markdown",
   "metadata": {},
   "source": [
    "## Loops & code blocks"
   ]
  },
  {
   "cell_type": "markdown",
   "metadata": {},
   "source": [
    "In Python, code blocks are denoted by an indent."
   ]
  },
  {
   "cell_type": "code",
   "execution_count": null,
   "metadata": {
    "scrolled": true
   },
   "outputs": [],
   "source": [
    "x = 0\n",
    "while x < 10:\n",
    "    x = x + 1\n",
    "    print(x)\n",
    "# What do you think happens?"
   ]
  },
  {
   "cell_type": "code",
   "execution_count": null,
   "metadata": {},
   "outputs": [],
   "source": [
    "y = 15\n",
    "while y > 0:\n",
    "    if y < 12 and not y < 5:\n",
    "        print(y)\n",
    "    else:\n",
    "        print(y*2)\n",
    "    y = y - 1\n",
    "# What do you think happens?"
   ]
  },
  {
   "cell_type": "markdown",
   "metadata": {},
   "source": [
    "## Functions"
   ]
  },
  {
   "cell_type": "markdown",
   "metadata": {},
   "source": [
    "You can also write functions in Python. They start with the word \"def\" followed by the function name."
   ]
  },
  {
   "cell_type": "code",
   "execution_count": null,
   "metadata": {},
   "outputs": [],
   "source": [
    "# What does this do?\n",
    "def mystery(a, b):\n",
    "    ret = 0\n",
    "    if type(a) == str and type(b) == str:\n",
    "        ret = a + b\n",
    "    elif type(a) == int and type(b) == str:\n",
    "        ret = a * b\n",
    "    elif type(a) == int and type(b) == int:\n",
    "        ret = a / b\n",
    "    else:\n",
    "        ret = [a, b, 'data science']\n",
    "    return ret        "
   ]
  },
  {
   "cell_type": "code",
   "execution_count": null,
   "metadata": {},
   "outputs": [],
   "source": [
    "mystery(22, 7)"
   ]
  },
  {
   "cell_type": "code",
   "execution_count": null,
   "metadata": {},
   "outputs": [],
   "source": [
    "mystery('rabbit', 'elephant')"
   ]
  },
  {
   "cell_type": "code",
   "execution_count": null,
   "metadata": {},
   "outputs": [],
   "source": [
    "mystery(4, 'wcwp')"
   ]
  },
  {
   "cell_type": "code",
   "execution_count": null,
   "metadata": {},
   "outputs": [],
   "source": [
    "mystery('guacamole', 5.22)"
   ]
  },
  {
   "cell_type": "markdown",
   "metadata": {},
   "source": [
    "<font color=red>One note of caution:</font> If you type a variable name and the text turns green in Jupyter Notebook, you need to rename that variable! Text turning to green means you're using a class name (say like __str__ or __list__) and if you try to assign something to that class name it can cause a lot of problems. So watch out!"
   ]
  },
  {
   "cell_type": "markdown",
   "metadata": {},
   "source": [
    "But if you do end up doing it accidentally, just restart the kernel and it should fix them problem."
   ]
  },
  {
   "cell_type": "markdown",
   "metadata": {},
   "source": [
    "## Assert"
   ]
  },
  {
   "cell_type": "markdown",
   "metadata": {},
   "source": [
    "The __assert__ function in Python allows you to check if something is correct."
   ]
  },
  {
   "cell_type": "code",
   "execution_count": null,
   "metadata": {},
   "outputs": [],
   "source": [
    "albert = 56\n",
    "assert type(albert) == int"
   ]
  },
  {
   "cell_type": "code",
   "execution_count": null,
   "metadata": {
    "scrolled": false
   },
   "outputs": [],
   "source": [
    "assert albert == 55"
   ]
  },
  {
   "cell_type": "markdown",
   "metadata": {},
   "source": [
    "Assert can be useful for situations where you have a lot of data and you want to check if they all meet a certain criteria, for example. If it doesn't raise an assertion error, you know your assertion condition is correct."
   ]
  },
  {
   "cell_type": "markdown",
   "metadata": {},
   "source": [
    "## Any other questions about Python?"
   ]
  },
  {
   "cell_type": "code",
   "execution_count": null,
   "metadata": {},
   "outputs": [],
   "source": []
  }
 ],
 "metadata": {
  "kernelspec": {
   "display_name": "Python 3",
   "language": "python",
   "name": "python3"
  },
  "language_info": {
   "codemirror_mode": {
    "name": "ipython",
    "version": 3
   },
   "file_extension": ".py",
   "mimetype": "text/x-python",
   "name": "python",
   "nbconvert_exporter": "python",
   "pygments_lexer": "ipython3",
   "version": "3.7.3"
  }
 },
 "nbformat": 4,
 "nbformat_minor": 2
}
